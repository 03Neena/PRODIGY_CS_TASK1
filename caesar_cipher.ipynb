{
 "cells": [
  {
   "cell_type": "code",
   "execution_count": 1,
   "id": "9605ef74-3b25-4ee4-80db-35b10bfd90db",
   "metadata": {},
   "outputs": [
    {
     "name": "stdin",
     "output_type": "stream",
     "text": [
      "Enter your message:  Hello World\n",
      "Enter the shift value:  3\n"
     ]
    },
    {
     "name": "stdout",
     "output_type": "stream",
     "text": [
      "Encrypted message: Khoor Zruog\n",
      "Decrypted message: Hello World\n"
     ]
    }
   ],
   "source": [
    "# Function to encrypt the message\n",
    "def encrypt(text, shift):\n",
    "    encrypted_message = \"\"\n",
    "    for char in text:\n",
    "        if char.isalpha():  # Check if the character is a letter\n",
    "            shift_base = 65 if char.isupper() else 97\n",
    "            # Shift the character and keep it in the alphabet range\n",
    "            encrypted_message += chr((ord(char) - shift_base + shift) % 26 + shift_base)\n",
    "        else:\n",
    "            encrypted_message += char  # Leave non-alphabetic characters unchanged\n",
    "    return encrypted_message\n",
    "\n",
    "# Function to decrypt the message\n",
    "def decrypt(text, shift):\n",
    "    return encrypt(text, -shift)\n",
    "\n",
    "# Input from the user\n",
    "message = input(\"Enter your message: \")\n",
    "shift_value = int(input(\"Enter the shift value: \"))\n",
    "\n",
    "# Encrypt the message\n",
    "encrypted = encrypt(message, shift_value)\n",
    "print(f\"Encrypted message: {encrypted}\")\n",
    "\n",
    "# Decrypt the message\n",
    "decrypted = decrypt(encrypted, shift_value)\n",
    "print(f\"Decrypted message: {decrypted}\")\n"
   ]
  }
 ],
 "metadata": {
  "kernelspec": {
   "display_name": "Python 3 (ipykernel)",
   "language": "python",
   "name": "python3"
  },
  "language_info": {
   "codemirror_mode": {
    "name": "ipython",
    "version": 3
   },
   "file_extension": ".py",
   "mimetype": "text/x-python",
   "name": "python",
   "nbconvert_exporter": "python",
   "pygments_lexer": "ipython3",
   "version": "3.12.4"
  }
 },
 "nbformat": 4,
 "nbformat_minor": 5
}
